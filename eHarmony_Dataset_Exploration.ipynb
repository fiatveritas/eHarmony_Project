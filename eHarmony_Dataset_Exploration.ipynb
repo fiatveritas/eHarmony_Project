{
 "cells": [
  {
   "cell_type": "code",
   "execution_count": null,
   "metadata": {
    "collapsed": false
   },
   "outputs": [],
   "source": [
    "import pandas as pd\n",
    "import numpy as np\n",
    "import sklearn\n",
    "import seaborn as sns\n",
    "import matplotlib\n",
    "import matplotlib.pyplot as plt\n",
    "from IPython.display import display\n",
    "%matplotlib inline\n",
    "\n",
    "pd.set_option('display.max_columns', None)\n",
    "#pd.set_option('display.max_rows', None)\n",
    "\n",
    "print('pandas version is {}.'.format(pd.__version__))\n",
    "print('numpy version is {}.'.format(np.__version__))\n",
    "print('scikit-learn version is {}.'.format(sklearn.__version__))\n",
    "print('seaborn version is {}.'.format(sns.__version__))\n",
    "print('matplotlib version is {}.'.format(matplotlib.__version__))"
   ]
  },
  {
   "cell_type": "code",
   "execution_count": null,
   "metadata": {
    "collapsed": false
   },
   "outputs": [],
   "source": [
    "training_data = pd.read_csv(\"EH-training-data.csv\", names = range(0, 59))\n",
    "training_labels = pd.read_csv(\"EH-training-labels.csv\", names = range(0, 3))\n",
    "testing_data = pd.read_csv(\"EH-testing-data.csv\", names = range(0, 59))\n",
    "testing_labels = pd.read_csv(\"EH-testing-labels.csv\", names = range(0, 3))\n",
    "print \"This set has {} training_data points and {} features.\".format(*training_data.shape)\n",
    "print \"This set has {} training_label points and {} features.\".format(*training_labels.shape)\n",
    "print \"This set has {} testing_data points and {} features.\".format(*testing_data.shape)\n",
    "print \"This set has {} testing_label points and {} features.\".format(*testing_labels.shape)\n",
    "#display(training_data)\n",
    "#display(training_labels)\n",
    "#display(testing_data)\n",
    "#display(testing_labels)"
   ]
  },
  {
   "cell_type": "code",
   "execution_count": null,
   "metadata": {
    "collapsed": false
   },
   "outputs": [],
   "source": [
    "training_data.describe()"
   ]
  },
  {
   "cell_type": "code",
   "execution_count": null,
   "metadata": {
    "collapsed": false
   },
   "outputs": [],
   "source": [
    "sns.set(style=\"white\")\n",
    "corr = training_data.corr()\n",
    "mask = np.zeros_like(corr, dtype = np.bool)\n",
    "mask[np.triu_indices_from(mask)] = True\n",
    "f, ax = plt.subplots(figsize = (22, 18))\n",
    "cmap = sns.diverging_palette(255, 140, as_cmap = True)\n",
    "sns.heatmap(corr, mask = mask, cmap = cmap, vmax = .3, \n",
    "            square = True, xticklabels = True, yticklabels = True, linewidths = 1, cbar_kws = {\"shrink\": .5}, ax = ax)"
   ]
  },
  {
   "cell_type": "code",
   "execution_count": null,
   "metadata": {
    "collapsed": true
   },
   "outputs": [],
   "source": [
    "#def features_hist(data):\n",
    "#\t\"\"\"This method ouputs a histograms of features.\"\"\"\n",
    "#\tfor i in data.columns:\n",
    "#\t\tstuff = pd.DataFrame(data = data[i], columns = [i])\n",
    "#\t\tstuff.plot(kind = 'hist', bins = 10)"
   ]
  },
  {
   "cell_type": "code",
   "execution_count": null,
   "metadata": {
    "collapsed": false
   },
   "outputs": [],
   "source": [
    "#features_hist(training_data)"
   ]
  }
 ],
 "metadata": {
  "kernelspec": {
   "display_name": "Python 2",
   "language": "python",
   "name": "python2"
  },
  "language_info": {
   "codemirror_mode": {
    "name": "ipython",
    "version": 2
   },
   "file_extension": ".py",
   "mimetype": "text/x-python",
   "name": "python",
   "nbconvert_exporter": "python",
   "pygments_lexer": "ipython2",
   "version": "2.7.12"
  }
 },
 "nbformat": 4,
 "nbformat_minor": 0
}
