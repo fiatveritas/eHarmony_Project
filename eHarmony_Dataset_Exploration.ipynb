{
 "cells": [
  {
   "cell_type": "code",
   "execution_count": 1,
   "metadata": {
    "collapsed": false
   },
   "outputs": [
    {
     "name": "stdout",
     "output_type": "stream",
     "text": [
      "pandas version is 0.18.0.\n",
      "numpy version is 1.10.4.\n",
      "scikit-learn version is 0.17.1.\n",
      "seaborn version is 0.7.1.\n",
      "matplotlib version is 1.5.1.\n"
     ]
    }
   ],
   "source": [
    "import pandas as pd\n",
    "import numpy as np\n",
    "import sklearn\n",
    "import seaborn as sns\n",
    "import matplotlib\n",
    "import matplotlib.pyplot as plt\n",
    "from IPython.display import display\n",
    "%matplotlib inline\n",
    "\n",
    "pd.set_option('display.max_columns', None)\n",
    "#pd.set_option('display.max_rows', None)\n",
    "\n",
    "print('pandas version is {}.'.format(pd.__version__))\n",
    "print('numpy version is {}.'.format(np.__version__))\n",
    "print('scikit-learn version is {}.'.format(sklearn.__version__))\n",
    "print('seaborn version is {}.'.format(sns.__version__))\n",
    "print('matplotlib version is {}.'.format(matplotlib.__version__))"
   ]
  },
  {
   "cell_type": "code",
   "execution_count": null,
   "metadata": {
    "collapsed": false
   },
   "outputs": [],
   "source": [
    "training_data = pd.read_csv(\"EH-training-data.csv\", names = range(0, 59))\n",
    "training_labels = pd.read_csv(\"EH-training-labels.csv\", names = range(0, 3))\n",
    "testing_data = pd.read_csv(\"EH-testing-data.csv\", names = range(0, 59))\n",
    "testing_labels = pd.read_csv(\"EH-testing-labels.csv\", names = range(0, 3))\n",
    "training_combined = pd.concat([training_data, training_labels], axis = 1)\n",
    "testing_combined = pd.concat([testing_data, testing_labels], axis = 1)\n",
    "print \"This set has {} training_data points and {} features.\".format(*training_data.shape)\n",
    "print \"This set has {} training_label points and {} features.\".format(*training_labels.shape)\n",
    "print \"This set has {} testing_data points and {} features.\".format(*testing_data.shape)\n",
    "print \"This set has {} testing_label points and {} features.\".format(*testing_labels.shape)\n",
    "print \"This set has {} training_combined points and {} features.\".format(*training_combined.shape)\n",
    "print \"This set has {} testing_combined points and {} features.\".format(*testing_combined.shape)\n",
    "display(training_data)\n",
    "display(training_labels)\n",
    "display(testing_data)\n",
    "display(testing_labels)\n",
    "display(training_combined)\n",
    "display(testing_combined)"
   ]
  }
 ],
 "metadata": {
  "kernelspec": {
   "display_name": "Python 2",
   "language": "python",
   "name": "python2"
  },
  "language_info": {
   "codemirror_mode": {
    "name": "ipython",
    "version": 2
   },
   "file_extension": ".py",
   "mimetype": "text/x-python",
   "name": "python",
   "nbconvert_exporter": "python",
   "pygments_lexer": "ipython2",
   "version": "2.7.12"
  }
 },
 "nbformat": 4,
 "nbformat_minor": 0
}
